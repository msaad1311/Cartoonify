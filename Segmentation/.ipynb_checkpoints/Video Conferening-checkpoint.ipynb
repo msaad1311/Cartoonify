{
 "cells": [
  {
   "cell_type": "code",
   "execution_count": 1,
   "metadata": {},
   "outputs": [],
   "source": [
    "import torch\n",
    "import torch.nn as nn\n",
    "import torchvision.transforms as transforms\n",
    "import torch.nn.functional as F\n",
    "\n",
    "import utils\n",
    "from cartoon_models.generator import Generator\n",
    "from segment_models.models.modnet import MODNet\n",
    "\n",
    "import numpy as np\n",
    "import gc\n",
    "import cv2\n",
    "import matplotlib.pyplot as plt\n",
    "import os"
   ]
  },
  {
   "cell_type": "code",
   "execution_count": 2,
   "metadata": {},
   "outputs": [],
   "source": [
    "checkpoint_seg = r'D:\\Cartoonify\\Resource\\MODNet\\checkpoint\\modnet_webcam_portrait_matting.ckpt'\n",
    "checkpoint_car = r'D:\\Cartoonify\\Resource\\cartoon-gan\\checkpoints\\trained_netG.pth'"
   ]
  },
  {
   "cell_type": "code",
   "execution_count": 3,
   "metadata": {},
   "outputs": [
    {
     "name": "stdout",
     "output_type": "stream",
     "text": [
      "cuda\n"
     ]
    }
   ],
   "source": [
    "device = 'cuda' if torch.cuda.is_available() else  'cpu'\n",
    "print(device)"
   ]
  },
  {
   "cell_type": "code",
   "execution_count": 4,
   "metadata": {},
   "outputs": [
    {
     "data": {
      "text/plain": [
       "<All keys matched successfully>"
      ]
     },
     "execution_count": 4,
     "metadata": {},
     "output_type": "execute_result"
    }
   ],
   "source": [
    "car_generator = Generator().to(device)\n",
    "car_generator.load_state_dict(torch.load(checkpoint_car))\n",
    "\n",
    "seg_model = MODNet(backbone_pretrained=False)\n",
    "seg_model = nn.DataParallel(seg_model)\n",
    "seg_model = seg_model.to(device)\n",
    "seg_model.load_state_dict(torch.load(checkpoint_seg))"
   ]
  },
  {
   "cell_type": "code",
   "execution_count": 5,
   "metadata": {},
   "outputs": [],
   "source": [
    "preprocess = transforms.Compose([\n",
    "    transforms.ToTensor(),\n",
    "    transforms.Normalize(mean=[0.485, 0.456, 0.406], std=[0.229, 0.224, 0.225]),\n",
    "])\n",
    "\n",
    "inv_normalize = transforms.Normalize(\n",
    "    mean=[-0.485/0.229, -0.456/0.224, -0.406/0.255],\n",
    "    std=[1/0.229, 1/0.224, 1/0.255]\n",
    ")"
   ]
  },
  {
   "cell_type": "code",
   "execution_count": 34,
   "metadata": {
    "scrolled": true
   },
   "outputs": [
    {
     "name": "stdout",
     "output_type": "stream",
     "text": [
      "Init WebCam...\n",
      "Start matting...\n"
     ]
    },
    {
     "name": "stderr",
     "output_type": "stream",
     "text": [
      "C:\\Users\\Saad.LAKES\\Anaconda3\\lib\\site-packages\\torch\\nn\\functional.py:3103: UserWarning: The default behavior for interpolate/upsample with float scale_factor changed in 1.6.0 to align with other frameworks/libraries, and now uses scale_factor directly, instead of relying on the computed output size. If you wish to restore the old behavior, please set recompute_scale_factor=True. See the documentation of nn.Upsample for details. \n",
      "  warnings.warn(\"The default behavior for interpolate/upsample with float scale_factor changed \"\n"
     ]
    },
    {
     "name": "stdout",
     "output_type": "stream",
     "text": [
      "Exit...\n"
     ]
    }
   ],
   "source": [
    "print('Init WebCam...')\n",
    "cap = cv2.VideoCapture(0)\n",
    "cap.set(cv2.CAP_PROP_FRAME_WIDTH, 1280)\n",
    "cap.set(cv2.CAP_PROP_FRAME_HEIGHT, 720)\n",
    "\n",
    "print('Start matting...')\n",
    "while(True):\n",
    "    _, frame_np = cap.read()\n",
    "    frame_np = cv2.cvtColor(frame_np, cv2.COLOR_BGR2RGB)\n",
    "    frame_np = cv2.resize(frame_np, (910, 512), cv2.INTER_AREA)\n",
    "    frame_np = frame_np[:, 120:792, :]\n",
    "    frame_np = cv2.flip(frame_np, 1)\n",
    "    tensor_img = preprocess(frame_np).unsqueeze(0).to(device)\n",
    "    seg_model.eval()\n",
    "    with torch.no_grad():\n",
    "        _, _, matte_tensor = seg_model(tensor_img, True)\n",
    "\n",
    "    matte_tensor = matte_tensor.repeat(1, 3, 1, 1)\n",
    "    matte_np = matte_tensor[0].data.cpu().numpy().transpose(1, 2, 0)\n",
    "    \n",
    "    background = cv2.imread('backgrounds/background3.jpg')\n",
    "    background = cv2.resize(background,(matte_np.shape[1],matte_np.shape[0]))\n",
    "    background = cv2.cvtColor(background,cv2.COLOR_BGR2RGB)\n",
    "    \n",
    "    fg_np = np.array(matte_np * frame_np + (1 - matte_np) * np.full(frame_np.shape, background))\n",
    "    fg_np = fg_np.astype(np.uint8)\n",
    "    fg_np = cv2.cvtColor(fg_np,cv2.COLOR_BGR2RGB)\n",
    "#     fg_np = torch.tensor(fg_np)\n",
    "    fg_np1 = preprocess(fg_np).unsqueeze(0).to(device).to(torch.float32)\n",
    "    car_generator.eval()\n",
    "    \n",
    "    with torch.no_grad():\n",
    "        cartoonImage = car_generator(fg_np1)\n",
    "    car_generator.train()\n",
    "    cartoonImage1 = inv_normalize(cartoonImage).squeeze(0).permute(1,2,0).cpu().numpy()\n",
    "    cartoonImage2 = cv2.cvtColor(cartoonImage1,cv2.COLOR_RGB2BGR)\n",
    "\n",
    "    cv2.imshow('MODNet - WebCam [Press \\'Q\\' To Exit]', cartoonImage1)#cartoonImage.squeeze(0).permute(1,2,0).cpu().numpy()\n",
    "    if cv2.waitKey(1) & 0xFF == ord('q'):\n",
    "        break\n",
    "cv2.destroyAllWindows()\n",
    "cap.release()\n",
    "print('Exit...')"
   ]
  },
  {
   "cell_type": "code",
   "execution_count": null,
   "metadata": {},
   "outputs": [],
   "source": [
    "fourcc = cv2.VideoWriter_fourcc(*'XVID') \n",
    "out = cv2.VideoWriter('output.avi', fourcc, 20.0, (640, 480)) "
   ]
  },
  {
   "cell_type": "markdown",
   "metadata": {},
   "source": [
    "## Saving to a video"
   ]
  },
  {
   "cell_type": "code",
   "execution_count": 23,
   "metadata": {},
   "outputs": [
    {
     "name": "stdout",
     "output_type": "stream",
     "text": [
      "Init WebCam...\n",
      "Start matting...\n",
      "Exit...\n"
     ]
    }
   ],
   "source": [
    "print('Init WebCam...')\n",
    "cap = cv2.VideoCapture(0)\n",
    "cap.set(cv2.CAP_PROP_FRAME_WIDTH, 1280)\n",
    "cap.set(cv2.CAP_PROP_FRAME_HEIGHT, 720)\n",
    "\n",
    "fourcc = cv2.VideoWriter_fourcc(*'XVID')\n",
    "out = cv2.VideoWriter('output.avi',0, 10.0, (672,512))\n",
    "\n",
    "print('Start matting...')\n",
    "while(True):\n",
    "    _, frame_np = cap.read()\n",
    "    frame_np = cv2.cvtColor(frame_np, cv2.COLOR_BGR2RGB)\n",
    "    frame_np = cv2.resize(frame_np, (910, 512), cv2.INTER_AREA)\n",
    "    frame_np = frame_np[:, 120:792, :]\n",
    "    frame_np = cv2.flip(frame_np, 1)\n",
    "    tensor_img = preprocess(frame_np).unsqueeze(0).to(device)\n",
    "    seg_model.eval()\n",
    "    with torch.no_grad():\n",
    "        _, _, matte_tensor = seg_model(tensor_img, True)\n",
    "\n",
    "    matte_tensor = matte_tensor.repeat(1, 3, 1, 1)\n",
    "    matte_np = matte_tensor[0].data.cpu().numpy().transpose(1, 2, 0)\n",
    "    \n",
    "    background = cv2.imread('backgrounds/background3.jpg')\n",
    "    background = cv2.resize(background,(matte_np.shape[1],matte_np.shape[0]))\n",
    "    background = cv2.cvtColor(background,cv2.COLOR_BGR2RGB)\n",
    "    \n",
    "    fg_np = np.array(matte_np * frame_np + (1 - matte_np) * np.full(frame_np.shape, background))\n",
    "    fg_np = fg_np.astype(np.uint8)\n",
    "    fg_np = cv2.cvtColor(fg_np,cv2.COLOR_BGR2RGB)\n",
    "#     fg_np = torch.tensor(fg_np)\n",
    "    fg_np1 = preprocess(fg_np).unsqueeze(0).to(device).to(torch.float32)\n",
    "    car_generator.eval()\n",
    "    \n",
    "    with torch.no_grad():\n",
    "        cartoonImage = car_generator(fg_np1)\n",
    "    car_generator.train()\n",
    "    cartoonImage1 = inv_normalize(cartoonImage).squeeze(0).permute(1,2,0).cpu().numpy()\n",
    "#     cartoonImage2 = cv2.cvtColor(cartoonImage1,cv2.COLOR_RGB2BGR)\n",
    "\n",
    "    cv2.imshow('MODNet - WebCam [Press \\'Q\\' To Exit]', cartoonImage1)\n",
    "    a = cv2.convertScaleAbs(cartoonImage1, alpha=(255.0))\n",
    "#     a = cv2.cvtColor(a,cv2.COLOR_RGB2BGR)\n",
    "    out.write(a)\n",
    "    if cv2.waitKey(1) & 0xFF == ord('q'):\n",
    "        break\n",
    "cv2.destroyAllWindows()\n",
    "cap.release()\n",
    "out.release() \n",
    "print('Exit...')"
   ]
  },
  {
   "cell_type": "code",
   "execution_count": null,
   "metadata": {},
   "outputs": [],
   "source": []
  },
  {
   "cell_type": "code",
   "execution_count": null,
   "metadata": {},
   "outputs": [],
   "source": []
  },
  {
   "cell_type": "code",
   "execution_count": 29,
   "metadata": {},
   "outputs": [
    {
     "data": {
      "text/plain": [
       "(512, 672, 3)"
      ]
     },
     "execution_count": 29,
     "metadata": {},
     "output_type": "execute_result"
    }
   ],
   "source": [
    "print('Init WebCam...')\n",
    "cap = cv2.VideoCapture(0)\n",
    "cap.set(cv2.CAP_PROP_FRAME_WIDTH, 1280)\n",
    "cap.set(cv2.CAP_PROP_FRAME_HEIGHT, 720)\n",
    "\n",
    "print('Start matting...')\n",
    "while(True):\n",
    "    _, frame_np = cap.read()\n",
    "    frame_np = cv2.cvtColor(frame_np, cv2.COLOR_BGR2RGB)\n",
    "    frame_np = cv2.resize(frame_np, (910, 512), cv2.INTER_AREA)\n",
    "    frame_np = frame_np[:, 120:792, :]\n",
    "    frame_np = cv2.flip(frame_np, 1)\n",
    "    tensor_img = preprocess(frame_np).unsqueeze(0).to(device)\n",
    "    car_generator.eval()\n",
    "    \n",
    "    with torch.no_grad():\n",
    "        cartoonImage = car_generator(tensor_img)\n",
    "    car_generator.train()\n",
    "    cartoonImage1 = inv_normalize(cartoonImage).squeeze(0).permute(1,2,0).cpu().numpy()\n",
    "    \n",
    "    \n",
    "    \n",
    "    cartoonImage2 = cv2.cvtColor(cartoonImage1,cv2.COLOR_RGB2BGR)\n",
    "    \n",
    "    seg_model.eval()\n",
    "    with torch.no_grad():\n",
    "        _, _, matte_tensor = seg_model(tensor_img, True)\n",
    "\n",
    "    matte_tensor = matte_tensor.repeat(1, 3, 1, 1)\n",
    "    matte_np = matte_tensor[0].data.cpu().numpy().transpose(1, 2, 0)\n",
    "    \n",
    "    background = cv2.imread('backgrounds/background3.jpg')\n",
    "    background = cv2.resize(background,(matte_np.shape[1],matte_np.shape[0]))\n",
    "    background = cv2.cvtColor(background,cv2.COLOR_BGR2RGB)\n",
    "    \n",
    "    fg_np = np.array(matte_np * frame_np + (1 - matte_np) * np.full(frame_np.shape, background))\n",
    "    fg_np = fg_np.astype(np.uint8)\n",
    "    fg_np = cv2.cvtColor(fg_np,cv2.COLOR_BGR2RGB)\n",
    "#     fg_np = torch.tensor(fg_np)\n",
    "    fg_np1 = preprocess(fg_np).unsqueeze(0).to(device).to(torch.float32)\n",
    "    \n",
    "\n",
    "    cv2.imshow('MODNet - WebCam [Press \\'Q\\' To Exit]', cartoonImage1)#cartoonImage.squeeze(0).permute(1,2,0).cpu().numpy()\n",
    "    if cv2.waitKey(1) & 0xFF == ord('q'):\n",
    "        break\n",
    "cv2.destroyAllWindows()\n",
    "cap.release()\n",
    "print('Exit...')"
   ]
  },
  {
   "cell_type": "code",
   "execution_count": null,
   "metadata": {},
   "outputs": [],
   "source": []
  }
 ],
 "metadata": {
  "kernelspec": {
   "display_name": "Python 3",
   "language": "python",
   "name": "python3"
  },
  "language_info": {
   "codemirror_mode": {
    "name": "ipython",
    "version": 3
   },
   "file_extension": ".py",
   "mimetype": "text/x-python",
   "name": "python",
   "nbconvert_exporter": "python",
   "pygments_lexer": "ipython3",
   "version": "3.8.5"
  },
  "varInspector": {
   "cols": {
    "lenName": 16,
    "lenType": 16,
    "lenVar": 40
   },
   "kernels_config": {
    "python": {
     "delete_cmd_postfix": "",
     "delete_cmd_prefix": "del ",
     "library": "var_list.py",
     "varRefreshCmd": "print(var_dic_list())"
    },
    "r": {
     "delete_cmd_postfix": ") ",
     "delete_cmd_prefix": "rm(",
     "library": "var_list.r",
     "varRefreshCmd": "cat(var_dic_list()) "
    }
   },
   "types_to_exclude": [
    "module",
    "function",
    "builtin_function_or_method",
    "instance",
    "_Feature"
   ],
   "window_display": false
  }
 },
 "nbformat": 4,
 "nbformat_minor": 4
}
