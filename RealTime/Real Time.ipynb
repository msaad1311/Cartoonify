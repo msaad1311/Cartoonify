{
 "cells": [
  {
   "cell_type": "code",
   "execution_count": 6,
   "metadata": {},
   "outputs": [],
   "source": [
    "import torch\n",
    "import torch.nn as nn\n",
    "import torchvision.transforms as transforms\n",
    "import torch.nn.functional as F\n",
    "\n",
    "import utils\n",
    "from models.generator import Generator\n",
    "\n",
    "import numpy as np\n",
    "import cv2\n",
    "import matplotlib.pyplot as plt\n",
    "import os"
   ]
  },
  {
   "cell_type": "code",
   "execution_count": 3,
   "metadata": {},
   "outputs": [
    {
     "name": "stdout",
     "output_type": "stream",
     "text": [
      "cuda\n"
     ]
    }
   ],
   "source": [
    "device = 'cuda' if torch.cuda.is_available() else  'cpu'\n",
    "print(device)"
   ]
  },
  {
   "cell_type": "code",
   "execution_count": 4,
   "metadata": {},
   "outputs": [
    {
     "data": {
      "text/plain": [
       "<All keys matched successfully>"
      ]
     },
     "execution_count": 4,
     "metadata": {},
     "output_type": "execute_result"
    }
   ],
   "source": [
    "model_path = r'D:\\Cartoonify\\ImagesCartoonify\\checkpoints\\trained_netG.pth'\n",
    "generator = Generator()\n",
    "\n",
    "generator.load_state_dict(torch.load(model_path))"
   ]
  },
  {
   "cell_type": "code",
   "execution_count": 7,
   "metadata": {},
   "outputs": [],
   "source": [
    "preprocess = transforms.Compose([\n",
    "    transforms.ToTensor(),\n",
    "    transforms.Normalize(mean=[0.485, 0.456, 0.406], std=[0.229, 0.224, 0.225]),\n",
    "])"
   ]
  },
  {
   "cell_type": "code",
   "execution_count": null,
   "metadata": {},
   "outputs": [],
   "source": [
    "print('Init WebCam...')\n",
    "cap = cv2.VideoCapture(0)\n",
    "cap.set(cv2.CAP_PROP_FRAME_WIDTH, 1280)\n",
    "cap.set(cv2.CAP_PROP_FRAME_HEIGHT, 720)\n",
    "\n",
    "print('Start cartoonifying...')\n",
    "while(True):\n",
    "    _, frame_np = cap.read()\n",
    "    frame_np = cv2.cvtColor(frame_np, cv2.COLOR_BGR2RGB)\n",
    "    frame_np = cv2.resize(frame_np, (910, 512), cv2.INTER_AREA)\n",
    "    frame_np = frame_np[:, 120:792, :]\n",
    "    frame_np = cv2.flip(frame_np, 1)\n",
    "    \n",
    "#     frame_PIL = Image.fromarray(frame_np)\n",
    "#     frame_tensor = torch_transforms(frame_PIL)\n",
    "#     frame_tensor = frame_tensor[None, :, :, :]\n",
    "#     if GPU:\n",
    "#         frame_tensor = frame_tensor.cuda()\n",
    "    \n",
    "#     with torch.no_grad():\n",
    "#         _, _, matte_tensor = modnet(frame_tensor, True)\n",
    "\n",
    "#     matte_tensor = matte_tensor.repeat(1, 3, 1, 1)\n",
    "#     matte_np = matte_tensor[0].data.cpu().numpy().transpose(1, 2, 0)\n",
    "    \n",
    "#     background = cv2.imread('backgrounds/background5.jpg')\n",
    "#     background = cv2.resize(background,(matte_np.shape[1],matte_np.shape[0]))\n",
    "#     background = cv2.cvtColor(background,cv2.COLOR_BGR2RGB)\n",
    "    \n",
    "#     fg_np = matte_np * frame_np + (1 - matte_np) * np.full(frame_np.shape, background)\n",
    "\n",
    "#     fg_np = fg_np.astype(np.uint8)\n",
    "#     fg_np = cv2.cvtColor(fg_np,cv2.COLOR_BGR2RGB)\n",
    "\n",
    "    cv2.imshow('MODNet - WebCam [Press \\'Q\\' To Exit]', fg_np)\n",
    "    if cv2.waitKey(1) & 0xFF == ord('q'):\n",
    "        break\n",
    "cv2.destroyAllWindows()\n",
    "cap.release()\n",
    "print('Exit...')"
   ]
  }
 ],
 "metadata": {
  "kernelspec": {
   "display_name": "Python 3",
   "language": "python",
   "name": "python3"
  },
  "language_info": {
   "codemirror_mode": {
    "name": "ipython",
    "version": 3
   },
   "file_extension": ".py",
   "mimetype": "text/x-python",
   "name": "python",
   "nbconvert_exporter": "python",
   "pygments_lexer": "ipython3",
   "version": "3.8.5"
  },
  "varInspector": {
   "cols": {
    "lenName": 16,
    "lenType": 16,
    "lenVar": 40
   },
   "kernels_config": {
    "python": {
     "delete_cmd_postfix": "",
     "delete_cmd_prefix": "del ",
     "library": "var_list.py",
     "varRefreshCmd": "print(var_dic_list())"
    },
    "r": {
     "delete_cmd_postfix": ") ",
     "delete_cmd_prefix": "rm(",
     "library": "var_list.r",
     "varRefreshCmd": "cat(var_dic_list()) "
    }
   },
   "types_to_exclude": [
    "module",
    "function",
    "builtin_function_or_method",
    "instance",
    "_Feature"
   ],
   "window_display": false
  }
 },
 "nbformat": 4,
 "nbformat_minor": 4
}
